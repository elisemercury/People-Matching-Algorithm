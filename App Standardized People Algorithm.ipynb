{
 "cells": [
  {
   "cell_type": "code",
   "execution_count": 2,
   "metadata": {},
   "outputs": [],
   "source": [
    "import tkinter as tk\n",
    "from tkinter import filedialog"
   ]
  },
  {
   "cell_type": "code",
   "execution_count": 4,
   "metadata": {},
   "outputs": [],
   "source": [
    "def UploadAction(event=None):\n",
    "    filename = filedialog.askopenfilename()\n",
    "    print('Selected:', filename)\n",
    "    \n",
    "window = tk.Tk()\n",
    "label = tk.Label(text=\"Name\")\n",
    "entry = tk.Entry()\n",
    "button = tk.Button(window, text='Open', command=UploadAction)\n",
    "button.pack()\n",
    "\n",
    "window.mainloop()"
   ]
  },
  {
   "cell_type": "code",
   "execution_count": 50,
   "metadata": {},
   "outputs": [],
   "source": [
    "from tkinter import *\n",
    "\n",
    "window = Tk()\n",
    "\n",
    "window.title(\"Mentee/Mentor Matcher\")\n",
    "\n",
    "lbl = Label(window, text=\"Hello, welcome to the Mentee/Mentor Matcher.\")\n",
    "lbl.grid(column=0, row=0, columnspan = 2)\n",
    "\n",
    "lbl2 = Label(window, text=\"Please upload your *mentor* survey file:\")\n",
    "lbl2.grid(column=0, row=2,columnspan = 1)\n",
    "btn2 = Button(window, text=\"Browse...\")\n",
    "btn2.grid(column=2, row=2)\n",
    "\n",
    "lbl3 = Label(window, text=\"Please upload your *mentee* survey file:\")\n",
    "lbl3.grid(column=0, row=4)\n",
    "btn3 = Button(window, text=\"Browse...\")\n",
    "btn3.grid(column=2, row=4)\n",
    "\n",
    "window.geometry('350x200')\n",
    "window.mainloop()"
   ]
  }
 ],
 "metadata": {
  "kernelspec": {
   "display_name": "Python 3",
   "language": "python",
   "name": "python3"
  },
  "language_info": {
   "codemirror_mode": {
    "name": "ipython",
    "version": 3
   },
   "file_extension": ".py",
   "mimetype": "text/x-python",
   "name": "python",
   "nbconvert_exporter": "python",
   "pygments_lexer": "ipython3",
   "version": "3.7.6"
  }
 },
 "nbformat": 4,
 "nbformat_minor": 4
}
