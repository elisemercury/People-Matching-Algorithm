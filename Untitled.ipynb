{
 "cells": [
  {
   "cell_type": "code",
   "execution_count": 3,
   "metadata": {},
   "outputs": [
    {
     "data": {
      "text/plain": [
       "'FY21 - Chairman Mentor Interest Form.xlsx'"
      ]
     },
     "execution_count": 3,
     "metadata": {},
     "output_type": "execute_result"
    }
   ],
   "source": [
    "import pandas as pd\n",
    "import scipy.spatial\n",
    "import random\n",
    "import xlsxwriter\n",
    "\n",
    "def read_file(xlsx_file, group=None):\n",
    "    if group == \"mentor\":\n",
    "        df_mentor_raw = pd.read_excel(xlsx_file, sheet_name = 0)\n",
    "        print(\"yes\")\n",
    "        if df_mentor_raw.shape != (0, 0):\n",
    "            return df_mentor_raw\n",
    "        else:\n",
    "            print(\"Error no data found. Maybe wrong sheet?\")\n",
    "            # error: no data found within your file\n",
    "\n",
    "\"FY21 - Mentee Interest - Chairman Club & Hall of Fame Mentoring Program.xlsx\"\n",
    "\"FY21 - Chairman Mentor Interest Form.xlsx\""
   ]
  },
  {
   "cell_type": "code",
   "execution_count": 8,
   "metadata": {},
   "outputs": [],
   "source": [
    "#mentor_data = read_file(\"FY21 - Chairman Mentor Interest Form.xlsx\", \"mentor\")\n",
    "\n",
    "#df_mentor = mentor_data[[\"What are you most likely to give in this mentoring engagement?\",\n",
    "   #                        \"What are you general strengths?\",\n",
    "   #                        \"What are your personal interests?\"]]\n",
    "df_mentor_raw = pd.read_excel(\"mentor_template.xlsx\", sheet_name=0)"
   ]
  },
  {
   "cell_type": "code",
   "execution_count": 9,
   "metadata": {},
   "outputs": [
    {
     "data": {
      "text/plain": [
       "Index(['Name',\n",
       "       'What are you most likely to give in this mentoring engagement?',\n",
       "       'What are your general strengths?', 'What are your personal interests?',\n",
       "       'Your role?', 'Your theatre?', 'Your segment?', 'Your gender?',\n",
       "       'Would you prefer a mentee in a:',\n",
       "       'Would you prefer a mentee in the same theatre?',\n",
       "       'Would you prefer a mentee of the same gender?',\n",
       "       'Let us know if you already have a CSAP mentee in mind'],\n",
       "      dtype='object')"
      ]
     },
     "execution_count": 9,
     "metadata": {},
     "output_type": "execute_result"
    }
   ],
   "source": [
    "df_mentor_raw.columns"
   ]
  },
  {
   "cell_type": "code",
   "execution_count": 5,
   "metadata": {},
   "outputs": [
    {
     "data": {
      "text/plain": [
       "0            Specific Advice;Day to Day;Own Experience;\n",
       "1                                       General Advice;\n",
       "2                       General Advice;Specific Advice;\n",
       "3     General Advice;Specific Advice;Day to Day;Own ...\n",
       "4            Specific Advice;Day to Day;Own Experience;\n",
       "5     General Advice;Specific Advice;Day to Day;Own ...\n",
       "6     General Advice;Specific Advice;Day to Day;Own ...\n",
       "7                       General Advice;Specific Advice;\n",
       "8                            Day to Day;Own Experience;\n",
       "9                                       General Advice;\n",
       "10        General Advice;Specific Advice;Own Experience\n",
       "11    General Advice;Specific Advice;Day to Day;Own ...\n",
       "12           Specific Advice;Day to Day;Own Experience;\n",
       "13    General Advice;Specific Advice;Day to Day;Own ...\n",
       "14           Specific Advice;Day to Day;Own Experience;\n",
       "15    General Advice;Specific Advice;Day to Day;Own ...\n",
       "16                                      General Advice;\n",
       "17           Specific Advice;Day to Day;Own Experience;\n",
       "18    General Advice;Specific Advice;Day to Day;Own ...\n",
       "19           Specific Advice;Day to Day;Own Experience;\n",
       "20    General Advice;Specific Advice;Day to Day;Own ...\n",
       "21                                      General Advice;\n",
       "22           Specific Advice;Day to Day;Own Experience;\n",
       "23    General Advice;Specific Advice;Day to Day;Own ...\n",
       "Name: What are you most likely to give in this mentoring engagement?, dtype: object"
      ]
     },
     "execution_count": 5,
     "metadata": {},
     "output_type": "execute_result"
    }
   ],
   "source": [
    "mentor_data[\"What are you most likely to give in this mentoring engagement?\"]"
   ]
  },
  {
   "cell_type": "code",
   "execution_count": 73,
   "metadata": {},
   "outputs": [
    {
     "data": {
      "text/html": [
       "<div>\n",
       "<style scoped>\n",
       "    .dataframe tbody tr th:only-of-type {\n",
       "        vertical-align: middle;\n",
       "    }\n",
       "\n",
       "    .dataframe tbody tr th {\n",
       "        vertical-align: top;\n",
       "    }\n",
       "\n",
       "    .dataframe thead th {\n",
       "        text-align: right;\n",
       "    }\n",
       "</style>\n",
       "<table border=\"1\" class=\"dataframe\">\n",
       "  <thead>\n",
       "    <tr style=\"text-align: right;\">\n",
       "      <th></th>\n",
       "      <th>What are you most likely to give in this mentoring engagement?</th>\n",
       "    </tr>\n",
       "  </thead>\n",
       "  <tbody>\n",
       "    <tr>\n",
       "      <th>0</th>\n",
       "      <td>Specific Advice;Day to Day;Own Experience;</td>\n",
       "    </tr>\n",
       "    <tr>\n",
       "      <th>1</th>\n",
       "      <td>General Advice;</td>\n",
       "    </tr>\n",
       "    <tr>\n",
       "      <th>2</th>\n",
       "      <td>General Advice;Specific Advice;</td>\n",
       "    </tr>\n",
       "    <tr>\n",
       "      <th>3</th>\n",
       "      <td>General Advice;Specific Advice;Day to Day;Own ...</td>\n",
       "    </tr>\n",
       "    <tr>\n",
       "      <th>4</th>\n",
       "      <td>Specific Advice;Day to Day;Own Experience;</td>\n",
       "    </tr>\n",
       "    <tr>\n",
       "      <th>5</th>\n",
       "      <td>General Advice;Specific Advice;Day to Day;Own ...</td>\n",
       "    </tr>\n",
       "    <tr>\n",
       "      <th>6</th>\n",
       "      <td>General Advice;Specific Advice;Day to Day;Own ...</td>\n",
       "    </tr>\n",
       "    <tr>\n",
       "      <th>7</th>\n",
       "      <td>General Advice;Specific Advice;</td>\n",
       "    </tr>\n",
       "    <tr>\n",
       "      <th>8</th>\n",
       "      <td>Day to Day;Own Experience;</td>\n",
       "    </tr>\n",
       "    <tr>\n",
       "      <th>9</th>\n",
       "      <td>General Advice;</td>\n",
       "    </tr>\n",
       "    <tr>\n",
       "      <th>10</th>\n",
       "      <td>General Advice;Specific Advice;Own Experience</td>\n",
       "    </tr>\n",
       "    <tr>\n",
       "      <th>11</th>\n",
       "      <td>General Advice;Specific Advice;Day to Day;Own ...</td>\n",
       "    </tr>\n",
       "    <tr>\n",
       "      <th>12</th>\n",
       "      <td>Specific Advice;Day to Day;Own Experience;</td>\n",
       "    </tr>\n",
       "    <tr>\n",
       "      <th>13</th>\n",
       "      <td>General Advice;Specific Advice;Day to Day;Own ...</td>\n",
       "    </tr>\n",
       "    <tr>\n",
       "      <th>14</th>\n",
       "      <td>Specific Advice;Day to Day;Own Experience;</td>\n",
       "    </tr>\n",
       "    <tr>\n",
       "      <th>15</th>\n",
       "      <td>General Advice;Specific Advice;Day to Day;Own ...</td>\n",
       "    </tr>\n",
       "    <tr>\n",
       "      <th>16</th>\n",
       "      <td>General Advice;</td>\n",
       "    </tr>\n",
       "    <tr>\n",
       "      <th>17</th>\n",
       "      <td>Specific Advice;Day to Day;Own Experience;</td>\n",
       "    </tr>\n",
       "    <tr>\n",
       "      <th>18</th>\n",
       "      <td>General Advice;Specific Advice;Day to Day;Own ...</td>\n",
       "    </tr>\n",
       "    <tr>\n",
       "      <th>19</th>\n",
       "      <td>Specific Advice;Day to Day;Own Experience;</td>\n",
       "    </tr>\n",
       "    <tr>\n",
       "      <th>20</th>\n",
       "      <td>General Advice;Specific Advice;Day to Day;Own ...</td>\n",
       "    </tr>\n",
       "    <tr>\n",
       "      <th>21</th>\n",
       "      <td>General Advice;</td>\n",
       "    </tr>\n",
       "    <tr>\n",
       "      <th>22</th>\n",
       "      <td>Specific Advice;Day to Day;Own Experience;</td>\n",
       "    </tr>\n",
       "    <tr>\n",
       "      <th>23</th>\n",
       "      <td>General Advice;Specific Advice;Day to Day;Own ...</td>\n",
       "    </tr>\n",
       "  </tbody>\n",
       "</table>\n",
       "</div>"
      ],
      "text/plain": [
       "   What are you most likely to give in this mentoring engagement?\n",
       "0          Specific Advice;Day to Day;Own Experience;            \n",
       "1                                     General Advice;            \n",
       "2                     General Advice;Specific Advice;            \n",
       "3   General Advice;Specific Advice;Day to Day;Own ...            \n",
       "4          Specific Advice;Day to Day;Own Experience;            \n",
       "5   General Advice;Specific Advice;Day to Day;Own ...            \n",
       "6   General Advice;Specific Advice;Day to Day;Own ...            \n",
       "7                     General Advice;Specific Advice;            \n",
       "8                          Day to Day;Own Experience;            \n",
       "9                                     General Advice;            \n",
       "10      General Advice;Specific Advice;Own Experience            \n",
       "11  General Advice;Specific Advice;Day to Day;Own ...            \n",
       "12         Specific Advice;Day to Day;Own Experience;            \n",
       "13  General Advice;Specific Advice;Day to Day;Own ...            \n",
       "14         Specific Advice;Day to Day;Own Experience;            \n",
       "15  General Advice;Specific Advice;Day to Day;Own ...            \n",
       "16                                    General Advice;            \n",
       "17         Specific Advice;Day to Day;Own Experience;            \n",
       "18  General Advice;Specific Advice;Day to Day;Own ...            \n",
       "19         Specific Advice;Day to Day;Own Experience;            \n",
       "20  General Advice;Specific Advice;Day to Day;Own ...            \n",
       "21                                    General Advice;            \n",
       "22         Specific Advice;Day to Day;Own Experience;            \n",
       "23  General Advice;Specific Advice;Day to Day;Own ...            "
      ]
     },
     "execution_count": 73,
     "metadata": {},
     "output_type": "execute_result"
    }
   ],
   "source": [
    "mentor_data.iloc[:, [1]]"
   ]
  },
  {
   "cell_type": "code",
   "execution_count": 1,
   "metadata": {
    "scrolled": true
   },
   "outputs": [
    {
     "ename": "NameError",
     "evalue": "name 'df_mentor' is not defined",
     "output_type": "error",
     "traceback": [
      "\u001b[1;31m---------------------------------------------------------------------------\u001b[0m",
      "\u001b[1;31mNameError\u001b[0m                                 Traceback (most recent call last)",
      "\u001b[1;32m<ipython-input-1-382b63a1d73f>\u001b[0m in \u001b[0;36m<module>\u001b[1;34m\u001b[0m\n\u001b[0;32m      1\u001b[0m \u001b[1;31m#mentor_data = read_file(\"mentor_template.xlsx\", \"mentor\")\u001b[0m\u001b[1;33m\u001b[0m\u001b[1;33m\u001b[0m\u001b[1;33m\u001b[0m\u001b[0m\n\u001b[1;32m----> 2\u001b[1;33m \u001b[0mdf_mentor\u001b[0m\u001b[1;33m[\u001b[0m\u001b[1;34m\"What are you most likely to give in this mentoring engagement?\"\u001b[0m\u001b[1;33m]\u001b[0m\u001b[1;33m\u001b[0m\u001b[1;33m\u001b[0m\u001b[0m\n\u001b[0m",
      "\u001b[1;31mNameError\u001b[0m: name 'df_mentor' is not defined"
     ]
    }
   ],
   "source": [
    "#mentor_data = read_file(\"mentor_template.xlsx\", \"mentor\")\n",
    "df_mentor[\"What are you most likely to give in this mentoring engagement?\"]"
   ]
  },
  {
   "cell_type": "code",
   "execution_count": 14,
   "metadata": {},
   "outputs": [],
   "source": [
    "import algorithm"
   ]
  },
  {
   "cell_type": "code",
   "execution_count": 15,
   "metadata": {},
   "outputs": [
    {
     "name": "stdout",
     "output_type": "stream",
     "text": [
      "yes\n",
      "1\n",
      "Test passed.\n",
      "Test passed.\n",
      "Test passed.\n",
      "Test passed.\n",
      "limited\n",
      "limited\n",
      "limited\n",
      "limited\n",
      "limited\n",
      "limited\n",
      "limited\n",
      "limited\n",
      "Converged at try: 21\n",
      "Test passed.\n",
      "['Leonora Steger', 'Tijana Pejnovic', 'Luc Janssen', 'Konstantin Koytchev', 'Ron Bogman', 'Russ Doherty', 'Nadja Ilic Danailov', 'Anthony Marabella', 'Timo Baumeister', 'Fang Yishu', 'Justin Flateau', 'Mary Catherine Dolehide']\n",
      "['Joyce Huan Wang', 'Russ Doherty', 'Anthony Marabella', 'Justin Flateau', 'Konstantin Koytchev', 'Mary Catherine Dolehide', 'Leonora Steger', 'Sandeep Yadav', 'Fang Yishu']\n",
      "['Justin Flateau', 'Fang Yishu', 'Nadja Ilic Danailov', 'Timo Baumeister', 'Russ Doherty', 'Mary Catherine Dolehide', 'Leonora Steger', 'Anthony Marabella', 'Ron Bogman', 'Konstantin Koytchev', 'Luc Janssen', 'Tijana Pejnovic']\n",
      "['Mary Catherine Dolehide', 'Tijana Pejnovic', 'Nadja Ilic Danailov', 'Leonora Steger']\n",
      "['Kevin Jones', 'Justin Flateau', 'John Vigil', 'Konstantin Koytchev', 'Eduardo Abud', 'Daniela Hernandez', 'Marie Chantal Burke', 'Eric Sherwood', 'Chase Abrams', 'Anthony Marabella', 'Steve Fuchs', 'Gibby Bates']\n",
      "['Chase Abrams', 'Timo Baumeister', 'Nadja Ilic Danailov', 'Luc Janssen', 'Wael Abdulal', 'Justin Flateau', 'Tijana Pejnovic', 'Konstantin Koytchev', 'John Vigil', 'Anthony Marabella']\n",
      "['Timo Baumeister', 'Anthony Marabella', 'Leonora Steger', 'Russ Doherty', 'Ron Bogman', 'Justin Flateau', 'Tijana Pejnovic', 'Konstantin Koytchev', 'Luc Janssen', 'Nadja Ilic Danailov', 'Mary Catherine Dolehide', 'Fang Yishu']\n",
      "['Anthony Marabella', 'Fang Yishu', 'Mary Catherine Dolehide', 'Konstantin Koytchev', 'Leonora Steger', 'Justin Flateau', 'Luc Janssen', 'Nadja Ilic Danailov', 'Timo Baumeister', 'Ron Bogman', 'Russ Doherty']\n",
      "['Gibby Bates', 'Steve Fuchs', 'Chase Abrams', 'Justin Flateau', 'Daniela Hernandez', 'Kevin Jones', 'Konstantin Koytchev', 'Anthony Marabella', 'John Vigil', 'Eduardo Abud', 'Eric Sherwood']\n",
      "['Ron Bogman', 'Timo Baumeister', 'Tijana Pejnovic', 'Nadja Ilic Danailov', 'Luc Janssen']\n",
      "['Tijana Pejnovic', 'Timo Baumeister', 'Ron Bogman', 'Luc Janssen', 'Nadja Ilic Danailov']\n",
      "['Fang Yishu', 'Leonora Steger', 'Justin Flateau', 'Ron Bogman', 'Konstantin Koytchev', 'Mary Catherine Dolehide', 'Nadja Ilic Danailov', 'Russ Doherty', 'Anthony Marabella', 'Timo Baumeister', 'Luc Janssen']\n",
      "['Steve Fuchs', 'Chase Abrams', 'Justin Flateau', 'Kevin Jones', 'Daniela Hernandez', 'Konstantin Koytchev', 'Eduardo Abud', 'Eric Sherwood', 'Anthony Marabella', 'Gibby Bates', 'John Vigil']\n",
      "['Konstantin Koytchev', 'Luc Janssen', 'Tijana Pejnovic', 'Leonora Steger', 'Anthony Marabella', 'Nadja Ilic Danailov', 'Russ Doherty', 'Justin Flateau', 'Ron Bogman', 'Timo Baumeister', 'Fang Yishu', 'Mary Catherine Dolehide']\n",
      "['Luc Janssen', 'Nadja Ilic Danailov', 'Timo Baumeister', 'Leonora Steger', 'Justin Flateau', 'Tijana Pejnovic', 'Konstantin Koytchev', 'Fang Yishu', 'Russ Doherty', 'Ron Bogman', 'Mary Catherine Dolehide', 'Anthony Marabella']\n",
      "['Daniela Hernandez', 'Chase Abrams', 'Gibby Bates', 'Konstantin Koytchev', 'Anthony Marabella', 'Justin Flateau', 'Eric Sherwood', 'Kevin Jones', 'Steve Fuchs', 'John Vigil', 'Eduardo Abud']\n",
      "['Nadja Ilic Danailov', 'Tijana Pejnovic']\n",
      "['Russ Doherty', 'Konstantin Koytchev', 'Justin Flateau', 'Nadja Ilic Danailov', 'Fang Yishu', 'Luc Janssen', 'Leonora Steger', 'Mary Catherine Dolehide', 'Tijana Pejnovic', 'Ron Bogman', 'Anthony Marabella', 'Timo Baumeister']\n",
      "['John Vigil', 'Justin Flateau', 'Tijana Pejnovic', 'Konstantin Koytchev', 'Luc Janssen', 'Nadja Ilic Danailov', 'Chase Abrams', 'Wael Abdulal', 'Timo Baumeister', 'Anthony Marabella']\n",
      "Test passed.\n"
     ]
    },
    {
     "data": {
      "text/plain": [
       "'Success'"
      ]
     },
     "execution_count": 15,
     "metadata": {},
     "output_type": "execute_result"
    }
   ],
   "source": [
    "algorithm.run_algorithm(\"mentee_template.xlsx\",\"mentor_template.xlsx\")"
   ]
  },
  {
   "cell_type": "code",
   "execution_count": 7,
   "metadata": {},
   "outputs": [],
   "source": [
    "import random\n",
    "choice_list = [\"limited\"]*1 + [\"medium\"]*1 + [\"hard\"]*1"
   ]
  },
  {
   "cell_type": "code",
   "execution_count": 24,
   "metadata": {},
   "outputs": [
    {
     "data": {
      "text/plain": [
       "'medium'"
      ]
     },
     "execution_count": 24,
     "metadata": {},
     "output_type": "execute_result"
    }
   ],
   "source": [
    "random.choice(choice_list)"
   ]
  }
 ],
 "metadata": {
  "kernelspec": {
   "display_name": "Python 3",
   "language": "python",
   "name": "python3"
  },
  "language_info": {
   "codemirror_mode": {
    "name": "ipython",
    "version": 3
   },
   "file_extension": ".py",
   "mimetype": "text/x-python",
   "name": "python",
   "nbconvert_exporter": "python",
   "pygments_lexer": "ipython3",
   "version": "3.7.6"
  }
 },
 "nbformat": 4,
 "nbformat_minor": 4
}
